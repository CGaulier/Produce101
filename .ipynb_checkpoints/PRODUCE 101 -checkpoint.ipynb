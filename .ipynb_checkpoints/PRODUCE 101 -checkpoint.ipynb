{
 "cells": [
  {
   "cell_type": "markdown",
   "metadata": {},
   "source": [
    "# Produce 101 [KR] study "
   ]
  },
  {
   "cell_type": "code",
   "execution_count": 8,
   "metadata": {},
   "outputs": [],
   "source": [
    "## Dataframes (custom mades via wikia)"
   ]
  },
  {
   "cell_type": "code",
   "execution_count": 9,
   "metadata": {},
   "outputs": [],
   "source": [
    "import numpy as np\n",
    "import pandas as pd\n",
    "import seaborn as sns\n",
    "import matplotlib.pyplot as plt\n",
    "%matplotlib inline"
   ]
  },
  {
   "cell_type": "raw",
   "metadata": {},
   "source": [
    "Produce 101 est un survival show Coréen, diffusé sur MNET (appartenant à un géant de l'industrie du divertissement du pays : CJE&M, dont la première saison est arrivé en 2016 (printemps-été) .Un survival show est ce que nous pourrions comparer à La Nouvelle Star ou la Star Academy chez nous.\n",
    "101 trainees (jeunes en formations pour devenir idols) venant de différentes agences, parfois non, participent à cette émission. Seul 11 sont sélectionnés par les spectateurs pour former un groupe temporaire. Pour la saison 1 1 an d'activité pour le grooupe IOI. La saison 1 ne concerne que des filles. "
   ]
  },
  {
   "cell_type": "raw",
   "metadata": {},
   "source": [
    "Chaque saison possède une chanson thème avec un center. Un center est le membre central qui a le plus de temps d'écran il démarre et finit la chanson avec un \"highlight\". On sait que, via des articles sur Naver, la moyenne d'âge des spectateurs est sur 2 tranches d'âge : 11-17 ans et 18-27 ans.\n",
    "Le public est majoritairement féminin peu importe la saison (soit 1 saison par an). La finale est toujours en live mais les votes ne sont ouverts qu'aux personnes détenant des numéros de téléphone coréens."
   ]
  },
  {
   "cell_type": "code",
   "execution_count": 13,
   "metadata": {},
   "outputs": [],
   "source": [
    "dfS1 = pd.read_csv('PRODUCE S1 RANK.csv')"
   ]
  },
  {
   "cell_type": "code",
   "execution_count": 14,
   "metadata": {},
   "outputs": [
    {
     "data": {
      "text/html": [
       "<div>\n",
       "<style scoped>\n",
       "    .dataframe tbody tr th:only-of-type {\n",
       "        vertical-align: middle;\n",
       "    }\n",
       "\n",
       "    .dataframe tbody tr th {\n",
       "        vertical-align: top;\n",
       "    }\n",
       "\n",
       "    .dataframe thead th {\n",
       "        text-align: right;\n",
       "    }\n",
       "</style>\n",
       "<table border=\"1\" class=\"dataframe\">\n",
       "  <thead>\n",
       "    <tr style=\"text-align: right;\">\n",
       "      <th></th>\n",
       "      <th>Agency</th>\n",
       "      <th>Name</th>\n",
       "      <th>Age During Show</th>\n",
       "      <th>First Evaluation</th>\n",
       "      <th>Second Evaluation</th>\n",
       "      <th>Final Rank</th>\n",
       "    </tr>\n",
       "  </thead>\n",
       "  <tbody>\n",
       "    <tr>\n",
       "      <th>0</th>\n",
       "      <td>Independant trainees (No Company)</td>\n",
       "      <td>Kang Siwon</td>\n",
       "      <td>20</td>\n",
       "      <td>F</td>\n",
       "      <td>C</td>\n",
       "      <td>36</td>\n",
       "    </tr>\n",
       "    <tr>\n",
       "      <th>1</th>\n",
       "      <td>Independant trainees (No Company)</td>\n",
       "      <td>Kim Minjung</td>\n",
       "      <td>14</td>\n",
       "      <td>D</td>\n",
       "      <td>F</td>\n",
       "      <td>45</td>\n",
       "    </tr>\n",
       "    <tr>\n",
       "      <th>2</th>\n",
       "      <td>Independant trainees (No Company)</td>\n",
       "      <td>Kim Seokyung</td>\n",
       "      <td>17</td>\n",
       "      <td>B</td>\n",
       "      <td>A</td>\n",
       "      <td>30</td>\n",
       "    </tr>\n",
       "    <tr>\n",
       "      <th>3</th>\n",
       "      <td>Independant trainees (No Company)</td>\n",
       "      <td>Kim Sihyun</td>\n",
       "      <td>17</td>\n",
       "      <td>F</td>\n",
       "      <td>D</td>\n",
       "      <td>40</td>\n",
       "    </tr>\n",
       "    <tr>\n",
       "      <th>4</th>\n",
       "      <td>Independant trainees (No Company)</td>\n",
       "      <td>Seong Hyemin</td>\n",
       "      <td>27</td>\n",
       "      <td>D</td>\n",
       "      <td>F</td>\n",
       "      <td>28</td>\n",
       "    </tr>\n",
       "  </tbody>\n",
       "</table>\n",
       "</div>"
      ],
      "text/plain": [
       "                              Agency          Name  Age During Show  \\\n",
       "0  Independant trainees (No Company)    Kang Siwon               20   \n",
       "1  Independant trainees (No Company)   Kim Minjung               14   \n",
       "2  Independant trainees (No Company)  Kim Seokyung               17   \n",
       "3  Independant trainees (No Company)    Kim Sihyun               17   \n",
       "4  Independant trainees (No Company)  Seong Hyemin               27   \n",
       "\n",
       "  First Evaluation Second Evaluation Final Rank  \n",
       "0                F                 C         36  \n",
       "1                D                 F         45  \n",
       "2                B                 A         30  \n",
       "3                F                 D         40  \n",
       "4                D                 F         28  "
      ]
     },
     "execution_count": 14,
     "metadata": {},
     "output_type": "execute_result"
    }
   ],
   "source": [
    "dfS1.head(5)"
   ]
  },
  {
   "cell_type": "raw",
   "metadata": {},
   "source": [
    "#First evaluation correspond au niveau du participant, lors d'une seconde évaluation il peut monter de classe. Plus est bien classé"
   ]
  },
  {
   "cell_type": "raw",
   "metadata": {},
   "source": [
    "#Plus il a de temps à l'écran lors des 3 premiers épisodes. A étant la meilleure F la pire."
   ]
  },
  {
   "cell_type": "code",
   "execution_count": 89,
   "metadata": {},
   "outputs": [
    {
     "data": {
      "text/plain": [
       "<matplotlib.axes._subplots.AxesSubplot at 0x24995e19be0>"
      ]
     },
     "execution_count": 89,
     "metadata": {},
     "output_type": "execute_result"
    },
    {
     "data": {
      "image/png": "[encoded data removed]",
      "text/plain": [
       "<Figure size 1296x576 with 1 Axes>"
      ]
     },
     "metadata": {
      "needs_background": "light"
     },
     "output_type": "display_data"
    }
   ],
   "source": [
    "plt.subplots(figsize=(18,8))\n",
    "dfS1.Agency.value_counts().plot.bar()\n"
   ]
  },
  {
   "cell_type": "raw",
   "metadata": {},
   "source": [
    "La corrélation entre le nombre de trainees et la chance d'en avoir dans le line-up de fin se semble pas énorme. La qualité d'entrainement doit, alors avoir un plus gros intérêt."
   ]
  },
  {
   "cell_type": "code",
   "execution_count": 31,
   "metadata": {},
   "outputs": [
    {
     "data": {
      "text/plain": [
       "Jellyfish Entertainment    3\n",
       "CUBE Entertainment         2\n",
       "PLEDIS Entertainment       2\n",
       "JYP Entertainment          1\n",
       "MJ Entertainment           1\n",
       "2able Company              1\n",
       "MNH Entertainment          1\n",
       "Dublekick Company          1\n",
       "Astory Entertainment       1\n",
       "LOEN Entertainment         1\n",
       "Name: Agency, dtype: int64"
      ]
     },
     "execution_count": 31,
     "metadata": {},
     "output_type": "execute_result"
    }
   ],
   "source": [
    "dfS1.Agency[dfS1['First Evaluation']=='A'].value_counts()"
   ]
  },
  {
   "cell_type": "raw",
   "metadata": {},
   "source": [
    "#L'agence Jellyfish a eu le plus de trainees ayant reçu A. Il est intéressant de voir que la Center ( trainee ayant le plus de temps d'écran pendant la chanson titre \"pick me up\", Jeon Somi, venant de JYP est déjà en A. "
   ]
  },
  {
   "cell_type": "code",
   "execution_count": 33,
   "metadata": {},
   "outputs": [
    {
     "data": {
      "text/plain": [
       "Fantagio Music                       3\n",
       "PLEDIS Entertainment                 3\n",
       "Jellyfish Entertainment              3\n",
       "MBK Entertainment                    2\n",
       "MNH Entertainment                    2\n",
       "SS Entertainment                     2\n",
       "Independant trainees (No Company)    1\n",
       "Starship Entertainment               1\n",
       "CUBE Entertainment                   1\n",
       "LOEN Entertainment                   1\n",
       "Magic Fresh Company                  1\n",
       "Name: Agency, dtype: int64"
      ]
     },
     "execution_count": 33,
     "metadata": {},
     "output_type": "execute_result"
    }
   ],
   "source": [
    "dfS1.Agency[dfS1['Second Evaluation']=='A'].value_counts()"
   ]
  },
  {
   "cell_type": "raw",
   "metadata": {},
   "source": [
    "#Il semble que les 3 trainees ont gardé leur rang. Pledis a vu un trainee monté en grade. Cependant MJ a perdu ses trainees dans le rang a. Il est intéressant de noter que parmi ses agences JYP, CUBE et Loen sont de grosses structures et connues dans l'industrie pour avoir eu des groupes prolifiques."
   ]
  },
  {
   "cell_type": "raw",
   "metadata": {},
   "source": [
    "Voici le tableau des 11 trainees ayant gagné :"
   ]
  },
  {
   "cell_type": "markdown",
   "metadata": {},
   "source": [
    "| Rang | Nom       | Votes   | Agence    |\n",
    "|------|-----------|---------|-----------|\n",
    "| 1    | Somi      | 858,333 | JYP       |\n",
    "| 2    | Sejeong   | 525,352 | Jellyfish |\n",
    "| 3    | Yoojung   | 438,778 | Fantagio  |\n",
    "| 4    | Chungha   | 403,633 | M&H       |\n",
    "| 5    | Sohye     | 229,732 | RedLine   |\n",
    "| 6    | Kyulkyung | 218,338 | Pledis    |\n",
    "| 7    | Chaeyeon  | 215,338 | MBK       |\n",
    "| 8    | Doyeon    | 200,069 | Fantagio  |\n",
    "| 9    | Mina      | 173,762 | Jellyfish |\n",
    "| 10   | Nayoung   | 138,726 | Pledis    |\n",
    "| 11   | Yeonjung  | 136,780 | Starship  |"
   ]
  },
  {
   "cell_type": "raw",
   "metadata": {},
   "source": [
    "Jeon Somi semble avoir gardé une forte popularité entre son apparition en tant que centre, du début de l'émission jusqu'au dernier épisode. Jellyfish a également marqué les esprits avec 2 trainees. Tout comme Pledis. Assez peu de grosses agences ont fini dans le lineup final."
   ]
  },
  {
   "cell_type": "raw",
   "metadata": {},
   "source": [
    "Produce S1 a reçu : "
   ]
  },
  {
   "cell_type": "markdown",
   "metadata": {},
   "source": [
    "| Ep.\tOriginal broadcast date   | Nationwide Seoul Nationwide |\n",
    "|------------------------------|-----------------------------|\n",
    "| 1\tJanuary 22                  | 1.04%\tN/A\t0.50%               |\n",
    "| 2\tJanuary 29                  | 1.56%\t1.10%                  |\n",
    "| 3\tFebruary 5                  | 1.78%\t1.50%                  |\n",
    "| 4\tFebruary 12                 | 3.31%\t2.75%\t3.00%             |\n",
    "| 5\tFebruary 19                 | 3.48%\t3.36%\t3.60%             |\n",
    "| 6\tFebruary 26                 | 3.41%\t3.12%\t3.60%             |\n",
    "| 7\tMarch 4                     | 3.78%\t4.03%\t3.40%             |\n",
    "| 8\tMarch 11                    | 3.66%\t4.78%\t3.00%             |\n",
    "| 9\tMarch 18                    | 2.98%\t3.17%\t3.10%             |\n",
    "| 10\tMarch 25                   | 3.69%\t4.77%\t4.10%             |\n",
    "| 11\tApril 1                    | 4.38%\t4.94%\t3.70%             |\n",
    "| Average\t3.01%\t—\t2.70%           |                             |"
   ]
  },
  {
   "cell_type": "raw",
   "metadata": {},
   "source": [
    " Les 3 premiers épisodes sont des évaluations et les trainees n'ont pas encore de missions. C'est quand elles commencent que le taux augmente. L'épisode final est celui avec le plus haut taux : c'est diffusé un vendredi soir vers 22h. Des heures abordables pour toucher les personnes les plus à même de voter : des adultes. Le travail se finit et la période d'avril est  sans évènement. "
   ]
  },
  {
   "cell_type": "markdown",
   "metadata": {},
   "source": [
    "## La saison 2"
   ]
  },
  {
   "cell_type": "raw",
   "metadata": {},
   "source": [
    "La saison 2 de Pd101 est cette fois-ci une saison avec des garçons et non plus des filles. Présenté par un grand nom de la kpop des années 90-2000, cette saison attire énormément de monde et sera celle avec le plus de popularité."
   ]
  },
  {
   "cell_type": "code",
   "execution_count": 41,
   "metadata": {},
   "outputs": [],
   "source": [
    "S2 = pd.read_csv('PRODUCE S2 RANK.csv')"
   ]
  },
  {
   "cell_type": "code",
   "execution_count": 42,
   "metadata": {},
   "outputs": [
    {
     "data": {
      "text/html": [
       "<div>\n",
       "<style scoped>\n",
       "    .dataframe tbody tr th:only-of-type {\n",
       "        vertical-align: middle;\n",
       "    }\n",
       "\n",
       "    .dataframe tbody tr th {\n",
       "        vertical-align: top;\n",
       "    }\n",
       "\n",
       "    .dataframe thead th {\n",
       "        text-align: right;\n",
       "    }\n",
       "</style>\n",
       "<table border=\"1\" class=\"dataframe\">\n",
       "  <thead>\n",
       "    <tr style=\"text-align: right;\">\n",
       "      <th></th>\n",
       "      <th>Agency</th>\n",
       "      <th>Name</th>\n",
       "      <th>Age</th>\n",
       "      <th>First Evaluation</th>\n",
       "      <th>Second Evaluation</th>\n",
       "      <th>Final Rank</th>\n",
       "    </tr>\n",
       "  </thead>\n",
       "  <tbody>\n",
       "    <tr>\n",
       "      <th>0</th>\n",
       "      <td>Indivdual Trainees (No Company)</td>\n",
       "      <td>Kim Sangbin</td>\n",
       "      <td>23</td>\n",
       "      <td>B</td>\n",
       "      <td>A</td>\n",
       "      <td>48</td>\n",
       "    </tr>\n",
       "    <tr>\n",
       "      <th>1</th>\n",
       "      <td>Indivdual Trainees (No Company)</td>\n",
       "      <td>Kim Jaehwan</td>\n",
       "      <td>22</td>\n",
       "      <td>B</td>\n",
       "      <td>B</td>\n",
       "      <td>4</td>\n",
       "    </tr>\n",
       "    <tr>\n",
       "      <th>2</th>\n",
       "      <td>Indivdual Trainees (No Company)</td>\n",
       "      <td>Kim Chan</td>\n",
       "      <td>22</td>\n",
       "      <td>D</td>\n",
       "      <td>F</td>\n",
       "      <td>82</td>\n",
       "    </tr>\n",
       "    <tr>\n",
       "      <th>3</th>\n",
       "      <td>Indivdual Trainees (No Company)</td>\n",
       "      <td>Lee Insoo</td>\n",
       "      <td>22</td>\n",
       "      <td>C</td>\n",
       "      <td>B</td>\n",
       "      <td>57</td>\n",
       "    </tr>\n",
       "    <tr>\n",
       "      <th>4</th>\n",
       "      <td>Indivdual Trainees (No Company)</td>\n",
       "      <td>Choi Dongha</td>\n",
       "      <td>23</td>\n",
       "      <td>C</td>\n",
       "      <td>B</td>\n",
       "      <td>48</td>\n",
       "    </tr>\n",
       "  </tbody>\n",
       "</table>\n",
       "</div>"
      ],
      "text/plain": [
       "                            Agency         Name  Age First Evaluation  \\\n",
       "0  Indivdual Trainees (No Company)  Kim Sangbin   23                B   \n",
       "1  Indivdual Trainees (No Company)  Kim Jaehwan   22                B   \n",
       "2  Indivdual Trainees (No Company)     Kim Chan   22                D   \n",
       "3  Indivdual Trainees (No Company)    Lee Insoo   22                C   \n",
       "4  Indivdual Trainees (No Company)  Choi Dongha   23                C   \n",
       "\n",
       "  Second Evaluation Final Rank  \n",
       "0                 A         48  \n",
       "1                 B          4  \n",
       "2                 F         82  \n",
       "3                 B         57  \n",
       "4                 B         48  "
      ]
     },
     "execution_count": 42,
     "metadata": {},
     "output_type": "execute_result"
    }
   ],
   "source": [
    "S2.head(5)"
   ]
  },
  {
   "cell_type": "code",
   "execution_count": 90,
   "metadata": {},
   "outputs": [
    {
     "data": {
      "text/plain": [
       "<matplotlib.axes._subplots.AxesSubplot at 0x24995ee6da0>"
      ]
     },
     "execution_count": 90,
     "metadata": {},
     "output_type": "execute_result"
    },
    {
     "data": {
      "image/png": "[encoded data removed]",
      "text/plain": [
       "<Figure size 1296x576 with 1 Axes>"
      ]
     },
     "metadata": {
      "needs_background": "light"
     },
     "output_type": "display_data"
    }
   ],
   "source": [
    "plt.subplots(figsize=(18,8))\n",
    "S2.Agency.value_counts().plot.bar()"
   ]
  },
  {
   "cell_type": "raw",
   "metadata": {},
   "source": [
    "La tendance vue en S1 est moindre ici. MMO en a envoyé 4 et en a eu 2 dans le line-up de fin, pareil pour Brand New Music. Cependant RWB, malgré son excellente réputation pour l'un de ses groupes semble ne pas avoir eu beaucoup de chance. Peu être les trainees n'avaient pas le niveau (ce qui va se vérifier en dessous)"
   ]
  },
  {
   "cell_type": "code",
   "execution_count": 96,
   "metadata": {},
   "outputs": [
    {
     "data": {
      "text/plain": [
       "Brand New Music        2\n",
       "Ardor and Able         2\n",
       "Fantagio Music         1\n",
       "S How Entertainment    1\n",
       "Brave Entertainment    1\n",
       "Name: Agency, dtype: int64"
      ]
     },
     "execution_count": 96,
     "metadata": {},
     "output_type": "execute_result"
    }
   ],
   "source": [
    "S2.Agency[S2['First Evaluation']=='A'].value_counts()"
   ]
  },
  {
   "cell_type": "code",
   "execution_count": 97,
   "metadata": {},
   "outputs": [
    {
     "data": {
      "text/plain": [
       "Brand New Music                    3\n",
       "Ardor and Able                     2\n",
       "S How Entertainment                1\n",
       "Fantagio Music                     1\n",
       "Indivdual Trainees (No Company)    1\n",
       "Happy Face Entertainment           1\n",
       "Yuehua Entertainment               1\n",
       "Maroo Entertainment                1\n",
       "Media Line                         1\n",
       "The Vibe Label                     1\n",
       "C2K Entertainment                  1\n",
       "MMO Entertainment                  1\n",
       "Brave Entertainment                1\n",
       "Name: Agency, dtype: int64"
      ]
     },
     "execution_count": 97,
     "metadata": {},
     "output_type": "execute_result"
    }
   ],
   "source": [
    "S2.Agency[S2['Second Evaluation']=='A'].value_counts()"
   ]
  },
  {
   "cell_type": "raw",
   "metadata": {},
   "source": [
    "La sélection des A lors du premier épisode a été très sévère. Avec seulement 7 trainees. On passe à 16 en seconde évaluation. Il y a donc eu, après celle-ci, une compétition plus rude pour la place de center. 1 seul trainee est descendu a un rang inférieur. "
   ]
  },
  {
   "cell_type": "code",
   "execution_count": 64,
   "metadata": {},
   "outputs": [
    {
     "data": {
      "text/plain": [
       "0        Kim Sangbin\n",
       "7        Noh Taehyun\n",
       "8        Ha Sungwoon\n",
       "13       Park Woojin\n",
       "14        Lee Daehwi\n",
       "15      Lim Youngmin\n",
       "16        Kim Samuel\n",
       "17       Kim Seongri\n",
       "26      Ong Seongwoo\n",
       "34       Park Woodam\n",
       "52      Han Jongyeon\n",
       "53        Lee Woojin\n",
       "54       Kang Daniel\n",
       "75      Kim Namhyung\n",
       "83       Kim Taedong\n",
       "96    Ahn Hyeongseop\n",
       "Name: Name, dtype: object"
      ]
     },
     "execution_count": 64,
     "metadata": {},
     "output_type": "execute_result"
    }
   ],
   "source": [
    "S2.Name[S2['Second Evaluation']=='A']\n"
   ]
  },
  {
   "cell_type": "raw",
   "metadata": {},
   "source": [
    "Voici les trainees ayant eu A. Voyons leur Rang final : Kim Sangbin = 48, Noh Taehyun = 25, Ha Sungwoon = 11, Park Woojin = 6, Lee Daehwi = 3 (center de la chanson theme), Lim Youngmin = 15, Kim Samuel = 18, Kim Seongri = 47, Ong Seongwoo = 5, Park Woodam = 35, Han Jongyeon = left the show, Lee Woojin = 35, Kang Daniel = 1, Kim Namhyung = 52, Kim Taedong = 30, Ahn Hyeongseop = 16"
   ]
  },
  {
   "cell_type": "raw",
   "metadata": {},
   "source": [
    "Globalement les classements sont hauts. La concurrence pour être en A était rude mais une fois encore être en A lors de la seconde évaluation aide à se classer haut. Donc le temps d'écran est important"
   ]
  },
  {
   "cell_type": "markdown",
   "metadata": {},
   "source": [
    "| Nationwide[55]          | Seoul National Capital Area[56]\tNationwide[57] |\n",
    "|-------------------------|-----------------------------------------------|\n",
    "| 1\tApril 7                | 1.638%\t1.606%\t2.1%                              |\n",
    "| 2\tApril 14               | 1.912%\t1.972%\t2.5%                              |\n",
    "| 3\tApril 21               | 2.260%\t2.142%\t3.2%                              |\n",
    "| 4\tApril 28               | 2.321%\t2.392%\t3.0%                              |\n",
    "| 5\tMay 5                  | 3.001%\t2.746%\t3.9%                              |\n",
    "| 6\tMay 12                 | 3.054%\t2.779%\t4.4%                              |\n",
    "| 7\tMay 19                 | 3.096%\t3.166%\t4.2%                              |\n",
    "| 8\tMay 26                 | 3.275%\t3.361%\t4.8%                              |\n",
    "| 9\tJune 2                 | 2.966%\t2.514%\t4.5%                              |\n",
    "| 10\tJune 9                | 3.927%\t4.147%\t4.9%                              |\n",
    "| 11\tJune 16               | 5.197%\t5.088%\t6.4%                              |\n",
    "| Average\t2.968%\t2.901%\t4.0% |                                               |"
   ]
  },
  {
   "cell_type": "raw",
   "metadata": {},
   "source": [
    "Le taux de la finale est largement plus haut que celui de la S1. La finale fut diffusé un vendredi vers 22 h. Le show ayant eu des records de vues et faisant la une des sites de recherche locaux. C'est totalement remarquable au niveau des votes largement plus élevés. "
   ]
  },
  {
   "cell_type": "markdown",
   "metadata": {},
   "source": [
    "| #  | Name           | Votes     | Company            |\n",
    "|----|----------------|-----------|--------------------|\n",
    "| 1  | Kang Daniel    | 1,578,837 | MMO Entertainment  |\n",
    "| 2  | Park Ji-hoon   | 1,136,014 | Maroo              |\n",
    "| 3  | Lee Dae-hwi    | 1,102,005 | Brand New Music    |\n",
    "| 4  | Kim Jae-hwan   | 1,051,735 | Individual Trainee |\n",
    "| 5  | Ong Seong-woo  | 984,756   | Fantagio           |\n",
    "| 6  | Park Woo-jin   | 937,379   | Brand New Music    |\n",
    "| 7  | Lai Guan-lin   | 905,875   | Cube Entertainment |\n",
    "| 8  | Yoon Ji-sung   | 902,098   | MMO Entertainment  |\n",
    "| 9  | Hwang Min-hyun | 862,719   | Pledis             |\n",
    "| 10 | Bae Jin-young  | 807,749   | C9                 |\n",
    "| 11 | Ha Sung-woon   | 790,302   | Ardor & Able       |"
   ]
  },
  {
   "cell_type": "raw",
   "metadata": {},
   "source": [
    "Le total de votes en S1 = 3 538 841‬"
   ]
  },
  {
   "cell_type": "raw",
   "metadata": {},
   "source": [
    "Le total de votes en S2 = 11 059 469‬"
   ]
  },
  {
   "cell_type": "raw",
   "metadata": {},
   "source": [
    "Les horaires sont parfaits pour les votes des adultes pouvant payer. De plus, les périodes de vacances approchent (Juillet-Août) et sont loin des examens (décembre). On voit cependant que le taux d'audience est légèrement inférieur alors que l'engouement est plus prononcé. Nous verrons que cette tendance va se vérifier en S4 (la S3 est un peu particulière."
   ]
  },
  {
   "cell_type": "markdown",
   "metadata": {},
   "source": [
    "## La saison 3 : Pd48"
   ]
  },
  {
   "cell_type": "raw",
   "metadata": {},
   "source": [
    "Produce 48 est la saison 3 avec en chanson thème Nekkoya. Cette saison est un peu particulière car elle prépare l'importation du format de l'émission au Japon. Pour se faire elle recrute donc des trainees Coréeenes (car saison avec fille) et des idoles Japonaises venant de l'agence leader AKB48 (et ses déclinaisons)"
   ]
  },
  {
   "cell_type": "code",
   "execution_count": 91,
   "metadata": {},
   "outputs": [],
   "source": [
    "S3 = pd.read_csv('PRODUCE S3 RANK.csv')"
   ]
  },
  {
   "cell_type": "code",
   "execution_count": 92,
   "metadata": {},
   "outputs": [
    {
     "data": {
      "text/html": [
       "<div>\n",
       "<style scoped>\n",
       "    .dataframe tbody tr th:only-of-type {\n",
       "        vertical-align: middle;\n",
       "    }\n",
       "\n",
       "    .dataframe tbody tr th {\n",
       "        vertical-align: top;\n",
       "    }\n",
       "\n",
       "    .dataframe thead th {\n",
       "        text-align: right;\n",
       "    }\n",
       "</style>\n",
       "<table border=\"1\" class=\"dataframe\">\n",
       "  <thead>\n",
       "    <tr style=\"text-align: right;\">\n",
       "      <th></th>\n",
       "      <th>Compan</th>\n",
       "      <th>Name</th>\n",
       "      <th>Age</th>\n",
       "      <th>1st Eval.</th>\n",
       "      <th>2nd Eval.</th>\n",
       "      <th>1st ranking period</th>\n",
       "      <th>Final Rank</th>\n",
       "    </tr>\n",
       "  </thead>\n",
       "  <tbody>\n",
       "    <tr>\n",
       "      <th>0</th>\n",
       "      <td>Individual Trainee (No company)</td>\n",
       "      <td>Park Seoyoung</td>\n",
       "      <td>20</td>\n",
       "      <td>C</td>\n",
       "      <td>D</td>\n",
       "      <td>34</td>\n",
       "      <td>55</td>\n",
       "    </tr>\n",
       "    <tr>\n",
       "      <th>1</th>\n",
       "      <td>Individual Trainee (No company)</td>\n",
       "      <td>Park Jinny</td>\n",
       "      <td>21</td>\n",
       "      <td>C</td>\n",
       "      <td>F</td>\n",
       "      <td>52</td>\n",
       "      <td>69</td>\n",
       "    </tr>\n",
       "    <tr>\n",
       "      <th>2</th>\n",
       "      <td>8D Creative</td>\n",
       "      <td>Kang Hyewon</td>\n",
       "      <td>20</td>\n",
       "      <td>F</td>\n",
       "      <td>F</td>\n",
       "      <td>38</td>\n",
       "      <td>8</td>\n",
       "    </tr>\n",
       "    <tr>\n",
       "      <th>3</th>\n",
       "      <td>A Team Entertainment</td>\n",
       "      <td>Kim Choyeon</td>\n",
       "      <td>18</td>\n",
       "      <td>A</td>\n",
       "      <td>C</td>\n",
       "      <td>68</td>\n",
       "      <td>50</td>\n",
       "    </tr>\n",
       "    <tr>\n",
       "      <th>4</th>\n",
       "      <td>Banana Culture</td>\n",
       "      <td>Kim Nayoung</td>\n",
       "      <td>17</td>\n",
       "      <td>C</td>\n",
       "      <td>A</td>\n",
       "      <td>55</td>\n",
       "      <td>21</td>\n",
       "    </tr>\n",
       "  </tbody>\n",
       "</table>\n",
       "</div>"
      ],
      "text/plain": [
       "                            Compan           Name  Age 1st Eval. 2nd Eval.  \\\n",
       "0  Individual Trainee (No company)  Park Seoyoung   20         C         D   \n",
       "1  Individual Trainee (No company)     Park Jinny   21         C         F   \n",
       "2                      8D Creative    Kang Hyewon   20         F         F   \n",
       "3             A Team Entertainment    Kim Choyeon   18         A         C   \n",
       "4                   Banana Culture    Kim Nayoung   17         C         A   \n",
       "\n",
       "   1st ranking period Final Rank  \n",
       "0                  34         55  \n",
       "1                  52         69  \n",
       "2                  38          8  \n",
       "3                  68         50  \n",
       "4                  55         21  "
      ]
     },
     "execution_count": 92,
     "metadata": {},
     "output_type": "execute_result"
    }
   ],
   "source": [
    "S3.head(5)"
   ]
  },
  {
   "cell_type": "code",
   "execution_count": 95,
   "metadata": {},
   "outputs": [
    {
     "data": {
      "text/plain": [
       "<matplotlib.axes._subplots.AxesSubplot at 0x249960b1668>"
      ]
     },
     "execution_count": 95,
     "metadata": {},
     "output_type": "execute_result"
    },
    {
     "data": {
      "image/png": "[encoded data removed]",
      "text/plain": [
       "<Figure size 1296x576 with 1 Axes>"
      ]
     },
     "metadata": {
      "needs_background": "light"
     },
     "output_type": "display_data"
    }
   ],
   "source": [
    "plt.subplots(figsize=(18,8))\n",
    "S3.Compan.value_counts().plot.bar()"
   ]
  },
  {
   "cell_type": "raw",
   "metadata": {},
   "source": [
    "AKB48 étant assez prolifique, à un nombre énorme d'idoles (pas de trainees chez eux, le Japon a une façon bien à elle de gérer les idoles. On voit que beaucoup d'agences ayant déjà envoyées des trainees les saisons précédentes sont de retour. Nous verrons en quoi c'est important après la S4."
   ]
  },
  {
   "cell_type": "code",
   "execution_count": 102,
   "metadata": {},
   "outputs": [
    {
     "data": {
      "text/plain": [
       "HOW Entertainment            1\n",
       "Yuehua Entertainment         1\n",
       "Banana Culture               1\n",
       "A Team Entertainment         1\n",
       "Wellmade Yedang              1\n",
       "Fent Entertainment           1\n",
       "FNC Entertainment            1\n",
       "Stone Music Entertainment    1\n",
       "Rainbow Bridge World         1\n",
       "HKT48                        1\n",
       "WM Entertainment             1\n",
       "MNH Entertainment            1\n",
       "PLEDIS Entertainment         1\n",
       "Woollim Entertainment        1\n",
       "AKB48                        1\n",
       "Name: Compan, dtype: int64"
      ]
     },
     "execution_count": 102,
     "metadata": {},
     "output_type": "execute_result"
    }
   ],
   "source": [
    "S3.Compan[S3['1st Eval.']=='A'].value_counts()"
   ]
  },
  {
   "cell_type": "code",
   "execution_count": 103,
   "metadata": {},
   "outputs": [
    {
     "data": {
      "text/plain": [
       "HKT48                     2\n",
       "Wellmade Yedang           2\n",
       "AKB48                     2\n",
       "Banana Culture            1\n",
       "Starship Entertainment    1\n",
       "Rainbow Bridge World      1\n",
       "WM Entertainment          1\n",
       "Yuehua Entertainment      1\n",
       "PLEDIS Entertainment      1\n",
       "MNH Entertainment         1\n",
       "Blockberry Creative       1\n",
       "Name: Compan, dtype: int64"
      ]
     },
     "execution_count": 103,
     "metadata": {},
     "output_type": "execute_result"
    }
   ],
   "source": [
    "S3.Compan[S3['2nd Eval.']=='A'].value_counts()"
   ]
  },
  {
   "cell_type": "raw",
   "metadata": {},
   "source": [
    "Résultat assez variable, mais Tjrs le même nombre en A (14). Les idoles japonaises sont assez peu nombreuses montrant qu'un contraste de niveau et de vision des idoles est présent. Mais certaines sont monté en rang donc il n'y a pas vraiment d'injustice. Le Center fut Sakura "
   ]
  },
  {
   "cell_type": "code",
   "execution_count": 106,
   "metadata": {},
   "outputs": [
    {
     "data": {
      "text/plain": [
       "4         Kim Nayoung\n",
       "6            Go Yujin\n",
       "27          Lee Haeun\n",
       "28          Lee Kaeun\n",
       "30           Na Goeun\n",
       "32           An Yujin\n",
       "42         Kang Damin\n",
       "43       Hwang Soyeon\n",
       "45       Lee Chaeyeon\n",
       "53         Kim Sihyun\n",
       "73     Takahashi Juri\n",
       "75       Honda Hitomi\n",
       "79    Miyawaki Sakura\n",
       "81        Yabuki Nako\n",
       "Name: Name, dtype: object"
      ]
     },
     "execution_count": 106,
     "metadata": {},
     "output_type": "execute_result"
    }
   ],
   "source": [
    "S3.Name[S3['2nd Eval.']=='A']\n"
   ]
  },
  {
   "cell_type": "raw",
   "metadata": {},
   "source": [
    "Comme pour la S2 voici les rang finaux des trainees ayant été en A et ayant eu un large temps d'écran dès les premiers épisodes : Kim Nayoung = 21, Go Yujin = 31, Lee Haeun = 48, Lee Kaeun = 14, Na Goeun = 29, An Yujin = 5, Kang Damin = 62, Hwang Soyeon = 60, Lee Chaeyeon = 12, Kim Sihyun = 27, Takahashi Juri = 16, Honda Hitomi = 9, Miyawaki Sakura = 2, Yabuki Nako = 6."
   ]
  },
  {
   "cell_type": "raw",
   "metadata": {},
   "source": [
    "Les résultats sont plus contrastés pour les trainees coréennes souvent dans la seconde moitié du classement mais pas proches du lineup. Pour les trainees japonaises, 3 des trainees en A ont fini dans le lineup et constituent l'entièreté des membres japonaises du groupe finale. Elles ont donc marqué le public et maintenu une popularité tout le long du show."
   ]
  },
  {
   "cell_type": "code",
   "execution_count": null,
   "metadata": {},
   "outputs": [],
   "source": [
    "Voici le tableau avec les membres gagnants."
   ]
  },
  {
   "cell_type": "markdown",
   "metadata": {},
   "source": [
    "| #  | Name            | Votes   | Company     |\n",
    "|----|-----------------|---------|-------------|\n",
    "| 1  | Jang Won-young  | 338,366 | Starship    |\n",
    "| 2  | Sakura Miyawaki | 316,105 | HKT48       |\n",
    "| 3  | Jo Yu-ri        | 294,734 | Stone Music |\n",
    "| 4  | Choi Ye-na      | 285,385 | Yuehua      |\n",
    "| 5  | Ahn Yu-jin      | 280,487 | Starship    |\n",
    "| 6  | Nako Yabuki     | 261,788 | HKT48       |\n",
    "| 7  | Kwon Eun-bi     | 250,212 | Woollim     |\n",
    "| 8  | Kang Hye-won    | 248,432 | 8D          |\n",
    "| 9  | Hitomi Honda    | 240,418 | AKB48       |\n",
    "| 10 | Kim Chae-won    | 238,192 | Woollim     |\n",
    "| 11 | Kim Min-joo     | 227,061 | Urban Works |\n",
    "| 12 | Lee Chae-yeon   | 221,273 | WM          |"
   ]
  },
  {
   "cell_type": "raw",
   "metadata": {},
   "source": [
    "TT = 3 202 453‬ votes. C'est donc la saison avec la plus faible participation de votes."
   ]
  },
  {
   "cell_type": "markdown",
   "metadata": {},
   "source": [
    "| Ep. Broadcast date | Nationwide[38]\tSeoul[39] |\n",
    "|--------------------|-------------------------|\n",
    "| 1\tJune 15           | 1.132%\tNR                |\n",
    "| 2\tJune 22           | 1.913%\t1.768%            |\n",
    "| 3\tJune 29           | 1.999%\t2.098%            |\n",
    "| 4\tJuly 6            | 2.833%\t3.068%            |\n",
    "| 5\tJuly 13           | 2.538%\t2.732%            |\n",
    "| 6\tJuly 20           | 2.479%\t3.080%            |\n",
    "| 7\tJuly 27           | 2.075%\t2.266%            |\n",
    "| 8\tAugust 3          | 2.397%\t2.399%            |\n",
    "| 9\tAugust 10         | 2.561%\t2.790%            |\n",
    "| 10\tAugust 17        | 2.594%\t3.087%            |\n",
    "| 11\tAugust 24        | 2.435%\t2.556%            |\n",
    "| 12\tAugust 31        | 3.085%\t3.299%            |\n",
    "| Average\t2.338%\tN/A   |                         |"
   ]
  },
  {
   "cell_type": "raw",
   "metadata": {},
   "source": [
    "Produce 48 est une saison un peu moins \"bonne\" que les autres en matière de performance. Le retour aux trainees filles entraine un engouement moins violent. De plus la diffusion est en pleine période de vacances. La saison 3 accuse ce coup et d'autres : le temps de diffusion est plus tôt : 20h à la place de 22h afin de respecter la législation sur la présence de mineures à la TV (il y a un couvre-feu). Les adultes sont encore au travail et ne peuvent donc pas voter autant qu'ils le veulent. Cela a également un impact sur le line-up de fin car le classement des tranches d'âge plus jeune n'est pas celui des plus vieux. Ce impact la future popularité du groupe. "
   ]
  },
  {
   "cell_type": "raw",
   "metadata": {},
   "source": [
    "Autre détail à prendre en compte : le show fut particulièrement critiqué pour sa coopération avec le Japon compte tenu des relations politiques tendu. S'ajoutant à cela les propos jugés choquant du producteur d'AKB48 sur la Corée. "
   ]
  },
  {
   "cell_type": "markdown",
   "metadata": {},
   "source": [
    "## Produce X 101"
   ]
  },
  {
   "cell_type": "raw",
   "metadata": {},
   "source": [
    "Chanson thème : Xima. Le centre fut Son Dongpyo qui fut choisi par le public pour la première fois en 4 ans. La S4 déclare choisir son 11e membre via un nouveau système = cumulation des votes du premier au dernier épisode . Ce 11e trainee sera nommé le X trainee."
   ]
  },
  {
   "cell_type": "code",
   "execution_count": 108,
   "metadata": {},
   "outputs": [],
   "source": [
    "S4 = pd.read_csv('PRODUCE S4 RANK.csv')"
   ]
  },
  {
   "cell_type": "code",
   "execution_count": 109,
   "metadata": {},
   "outputs": [
    {
     "data": {
      "text/html": [
       "<div>\n",
       "<style scoped>\n",
       "    .dataframe tbody tr th:only-of-type {\n",
       "        vertical-align: middle;\n",
       "    }\n",
       "\n",
       "    .dataframe tbody tr th {\n",
       "        vertical-align: top;\n",
       "    }\n",
       "\n",
       "    .dataframe thead th {\n",
       "        text-align: right;\n",
       "    }\n",
       "</style>\n",
       "<table border=\"1\" class=\"dataframe\">\n",
       "  <thead>\n",
       "    <tr style=\"text-align: right;\">\n",
       "      <th></th>\n",
       "      <th>Agency</th>\n",
       "      <th>Name</th>\n",
       "      <th>Mnet Profile Age</th>\n",
       "      <th>First Evaluation</th>\n",
       "      <th>Second Evaluation</th>\n",
       "      <th>Final Rank</th>\n",
       "    </tr>\n",
       "  </thead>\n",
       "  <tbody>\n",
       "    <tr>\n",
       "      <th>0</th>\n",
       "      <td>Indivdual Trainees (No Company)</td>\n",
       "      <td>Lee Eugene</td>\n",
       "      <td>16</td>\n",
       "      <td>X</td>\n",
       "      <td>F</td>\n",
       "      <td>55</td>\n",
       "    </tr>\n",
       "    <tr>\n",
       "      <th>1</th>\n",
       "      <td>Indivdual Trainees (No Company)</td>\n",
       "      <td>Choi Suhwan</td>\n",
       "      <td>19</td>\n",
       "      <td>A</td>\n",
       "      <td>A</td>\n",
       "      <td>28</td>\n",
       "    </tr>\n",
       "    <tr>\n",
       "      <th>2</th>\n",
       "      <td>Indivdual Trainees (No Company)</td>\n",
       "      <td>Kang Seokhwa</td>\n",
       "      <td>20</td>\n",
       "      <td>C</td>\n",
       "      <td>B</td>\n",
       "      <td>35</td>\n",
       "    </tr>\n",
       "    <tr>\n",
       "      <th>3</th>\n",
       "      <td>Indivdual Trainees (No Company)</td>\n",
       "      <td>Kim Sungyeon</td>\n",
       "      <td>18</td>\n",
       "      <td>C</td>\n",
       "      <td>B</td>\n",
       "      <td>45</td>\n",
       "    </tr>\n",
       "    <tr>\n",
       "      <th>4</th>\n",
       "      <td>Indivdual Trainees (No Company)</td>\n",
       "      <td>Park Jinyeol</td>\n",
       "      <td>19</td>\n",
       "      <td>C</td>\n",
       "      <td>D</td>\n",
       "      <td>81</td>\n",
       "    </tr>\n",
       "  </tbody>\n",
       "</table>\n",
       "</div>"
      ],
      "text/plain": [
       "                            Agency          Name  Mnet Profile Age  \\\n",
       "0  Indivdual Trainees (No Company)    Lee Eugene                16   \n",
       "1  Indivdual Trainees (No Company)   Choi Suhwan                19   \n",
       "2  Indivdual Trainees (No Company)  Kang Seokhwa                20   \n",
       "3  Indivdual Trainees (No Company)  Kim Sungyeon                18   \n",
       "4  Indivdual Trainees (No Company)  Park Jinyeol                19   \n",
       "\n",
       "  First Evaluation Second Evaluation Final Rank  \n",
       "0                X                 F         55  \n",
       "1                A                 A         28  \n",
       "2                C                 B         35  \n",
       "3                C                 B         45  \n",
       "4                C                 D         81  "
      ]
     },
     "execution_count": 109,
     "metadata": {},
     "output_type": "execute_result"
    }
   ],
   "source": [
    "S4.head(5)"
   ]
  },
  {
   "cell_type": "code",
   "execution_count": 110,
   "metadata": {},
   "outputs": [
    {
     "data": {
      "text/plain": [
       "<matplotlib.axes._subplots.AxesSubplot at 0x249965eb828>"
      ]
     },
     "execution_count": 110,
     "metadata": {},
     "output_type": "execute_result"
    },
    {
     "data": {
      "image/png": "[encoded data removed]",
      "text/plain": [
       "<Figure size 1296x576 with 1 Axes>"
      ]
     },
     "metadata": {
      "needs_background": "light"
     },
     "output_type": "display_data"
    }
   ],
   "source": [
    "plt.subplots(figsize=(18,8))\n",
    "S4.Agency.value_counts().plot.bar()"
   ]
  },
  {
   "cell_type": "raw",
   "metadata": {},
   "source": [
    "On remarque 2 agences familières avec l'émission qui cette fois-ci envoient un large nombre de trainees. Des agences ayant eu des membres dans les gagnants. Woollim et Starship. On imagine également que suite à la S2 avec l'un des membres n'appartenant pas à une agence et ayant eu une place dans le groupe, beaucoup de \"individual trainees\" se sont présentés."
   ]
  },
  {
   "cell_type": "code",
   "execution_count": 111,
   "metadata": {},
   "outputs": [
    {
     "data": {
      "text/plain": [
       "Around Us Entertainment            2\n",
       "Indivdual Trainees (No Company)    2\n",
       "Plan A Entertainment               2\n",
       "Brand New Music                    2\n",
       "The Music Works                    2\n",
       "The South                          1\n",
       "WUZO Entertainment                 1\n",
       "HONGYI Entertainment               1\n",
       "AAP.Y Entertainment                1\n",
       "MBK Entertainment                  1\n",
       "OUI Entertainment                  1\n",
       "Name: Agency, dtype: int64"
      ]
     },
     "execution_count": 111,
     "metadata": {},
     "output_type": "execute_result"
    }
   ],
   "source": [
    "S4.Agency[S4['First Evaluation']=='A'].value_counts()"
   ]
  },
  {
   "cell_type": "code",
   "execution_count": 112,
   "metadata": {},
   "outputs": [
    {
     "data": {
      "text/plain": [
       "Plan A Entertainment               2\n",
       "TOP Media                          2\n",
       "DSP Media                          2\n",
       "The Music Works                    2\n",
       "Starship Entertainment             2\n",
       "AAP.Y Entertainment                1\n",
       "Source Music                       1\n",
       "NEST Entertainment                 1\n",
       "Indivdual Trainees (No Company)    1\n",
       "Brand New Music                    1\n",
       "Name: Agency, dtype: int64"
      ]
     },
     "execution_count": 112,
     "metadata": {},
     "output_type": "execute_result"
    }
   ],
   "source": [
    "S4.Agency[S4['Second Evaluation']=='A'].value_counts()"
   ]
  },
  {
   "cell_type": "raw",
   "metadata": {},
   "source": [
    "Il est amusant de constater que le trainee de OUI ent (Kim Yohan)fut en A mais renvoyé dans un rag inférieur à la deuxième évaluation alors qu'il finira première place. Ce dernier ayant eu un large temps d'écran avant la seconde évaluation. Les changements sont plus violents ici, plus d'agences ont bougé : mauvaise évaluation ? cadre plus stressant . Il est connu que Produce est une émission créant beaucoup e stress auprès des participants... C'est donc l'une des causes. Ayant été spectatrice je montrerai que la seconde évaluation a ici eu un impact bien moins grand que les autres années. "
   ]
  },
  {
   "cell_type": "code",
   "execution_count": 113,
   "metadata": {},
   "outputs": [
    {
     "data": {
      "text/plain": [
       "1        Choi Suhwan\n",
       "9       Kang Hyeonsu\n",
       "18        Kim Sihoon\n",
       "27       Son Dongpyo\n",
       "28       Lee Junhyuk\n",
       "60      Kim Kookheon\n",
       "61        Song Yuvin\n",
       "62      Park Yoonsol\n",
       "66    Choi Byungchan\n",
       "67      Han Seungwoo\n",
       "70      Kim Hyeonbin\n",
       "74      Moon Hyunbin\n",
       "75        Ham Wonjin\n",
       "81       Kim Wooseok\n",
       "82       Lee Jinhyuk\n",
       "Name: Name, dtype: object"
      ]
     },
     "execution_count": 113,
     "metadata": {},
     "output_type": "execute_result"
    }
   ],
   "source": [
    "S4.Name[S4['Second Evaluation']=='A']"
   ]
  },
  {
   "cell_type": "raw",
   "metadata": {},
   "source": [
    "Classement final : Choi Suhwan = 28, Kang Hyeongsu = 26, Kim Sihoon = 27, Son Dongpyo = 6 (center), Lee Junhyuk = 75, Kim Kookheon = 21, Song Yuvin = 15, Park Yoonsol = 48, Choi Byungchan = left the show, Han Seungwoo = 3, Kim Hyeonbin = 30, Moon Hyunbin = 32, Ham Wonjin = 16, Kim Wooseok = 2, Lee Jinhyuk = 14. "
   ]
  },
  {
   "cell_type": "raw",
   "metadata": {},
   "source": [
    "Des places assez hautes (demi-final et final) pour la plupart. Donc il y a eu une forte exposition des membres en A. Je veux juste maintenant voir la première audition"
   ]
  },
  {
   "cell_type": "code",
   "execution_count": 114,
   "metadata": {},
   "outputs": [
    {
     "data": {
      "text/plain": [
       "1        Choi Suhwan\n",
       "6          Lee Hamin\n",
       "9       Kang Hyeonsu\n",
       "13         Woo Jewon\n",
       "14      Jeong Jaehun\n",
       "19      Yun Junghwan\n",
       "20       Lee Eunsang\n",
       "42              Tony\n",
       "57        Nam Dohyon\n",
       "60      Kim Kookheon\n",
       "61        Song Yuvin\n",
       "64         Kim Yohan\n",
       "66    Choi Byungchan\n",
       "67      Han Seungwoo\n",
       "79      Nam Donghyun\n",
       "95       Choi Jinhwa\n",
       "Name: Name, dtype: object"
      ]
     },
     "execution_count": 114,
     "metadata": {},
     "output_type": "execute_result"
    }
   ],
   "source": [
    "S4.Name[S4['First Evaluation']=='A']"
   ]
  },
  {
   "cell_type": "raw",
   "metadata": {},
   "source": [
    "Classement final : Choi Suhwan = 28, Lee Hamin = 63, Kang Hyeongsu = 26, Woo Jewon = 54, Jeong Jaehun = 39, Yun Junghwan = 38, Lee Eunsang = 11, Tony = 20, Nam Dohyon = 8, Kim Kookheon = 21, Song Yuvin = 15, Kim Yohan = 1, Choi Byungchan = left the show, Han Seungwoo = 3, Nam Donghyun =  60, Choi Jinhwa = 74"
   ]
  },
  {
   "cell_type": "raw",
   "metadata": {},
   "source": [
    "Le classement est soit très haut, soit très bas le contraste est plus important. On imagine donc que les gens se sont attaché à une partie d'entre eux et lors de la deuxième audition le temps à l'écran fut plus harmonieux."
   ]
  },
  {
   "cell_type": "raw",
   "metadata": {},
   "source": [
    "Classement du groupe final :"
   ]
  },
  {
   "cell_type": "markdown",
   "metadata": {},
   "source": [
    "| #  | Name            | Votes     | Company                | Accumulated Votes |\n",
    "|----|-----------------|-----------|------------------------|-------------------|\n",
    "| 1  | Kim Yo-han      | 1,334,011 | OUI Entertainment      | 4,468,996         |\n",
    "| 2  | Kim Woo-seok    | 1,304,033 | TOP Media              | 4,424,309         |\n",
    "| 3  | Han Seung-woo   | 1,079,200 | Plan A Entertainment   | 2,869,629         |\n",
    "| 4  | Song Hyeong-jun | 1,049,222 | Starship Entertainment | 3,735,217         |\n",
    "| 5  | Cho Seung-youn  | 929,311   | Yuehua Entertainment   | 2,200,382         |\n",
    "| 6  | Son Dong-pyo    | 824,389   | DSP Media              | 2,762,824         |\n",
    "| 7  | Lee Han-gyul    | 794,411   | MBK Entertainment      | 2,221,045         |\n",
    "| 8  | Nam Do-hyun     | 764,433   | MBK Entertainment      | 3,147,303         |\n",
    "| 9  | Cha Jun-ho      | 756,939   | Woollim Entertainment  | 2,449,408         |\n",
    "| 10 | Kang Min-hee    | 749,444   | Starship Entertainment | 1,798,609         |\n",
    "| X  | Lee Eun-sang    | 689,489   | Brand New Music        | 3,164,535         |"
   ]
  },
  {
   "cell_type": "raw",
   "metadata": {},
   "source": [
    "TT = 9 585 393‬ votes "
   ]
  },
  {
   "cell_type": "raw",
   "metadata": {},
   "source": [
    "C'est donc la deuxième meilleure saison niveau votes. "
   ]
  },
  {
   "cell_type": "markdown",
   "metadata": {},
   "source": [
    "| Ep. Broadcast dat   | Nationwide\tSeoul |\n",
    "|---------------------|-----------------|\n",
    "| 1\tMay 3              | 1.448%\t1.694%    |\n",
    "| 2\tMay 10             | 2.309%\t2.920%    |\n",
    "| 3\tMay 17             | 2.130%\t2.501%    |\n",
    "| 4\tMay 24             | 2.244%\t2.395%    |\n",
    "| 5\tMay 31             | 2.102%\t2.450%    |\n",
    "| 6\tJune 7             | 2.230%\t2.569%    |\n",
    "| 7\tJune 14            | 2.019%\t2.425%    |\n",
    "| 8\tJune 21            | 2.183%\t2.405%    |\n",
    "| 9\tJune 28            | 2.508%\t2.738%    |\n",
    "| 10\tJuly 5            | 2.314%\t2.803%    |\n",
    "| 11\tJuly 12           | 2.220%\t2.800%    |\n",
    "| 12\tJuly 19           | 3.892%\t3.822%    |\n",
    "| Average\t2.300%\t2.627% |                 |"
   ]
  },
  {
   "cell_type": "raw",
   "metadata": {},
   "source": [
    "Cette saison fut assez populaire pour être premier des audiences. Cependant et pour les mêmes raisons que la S3, la diffusion fut avancée à 20h en live. Le show commence aussi à souffrir d'un début de lassitude . Sans pour autant être catastrophique les taux sont moins bons alors que les extraits de l'émission eurent de très bons résultats sur Youtube. Une raison à cela et qui avait commencé à toucher la S3 : Les entreprises mesurants les taux d'audience ne prennent pas en compte les appareils portatifs et le streaming. Faisant ainsi tomber le taux. "
   ]
  },
  {
   "cell_type": "code",
   "execution_count": null,
   "metadata": {},
   "outputs": [],
   "source": []
  },
  {
   "cell_type": "markdown",
   "metadata": {},
   "source": [
    "## Quelques remarques et chiffres"
   ]
  },
  {
   "cell_type": "raw",
   "metadata": {},
   "source": [
    "45 trainees pour 27 agences"
   ]
  },
  {
   "cell_type": "markdown",
   "metadata": {},
   "source": [
    "| Agence          | nombre de trainees | votes S1:S4 |\n",
    "|-----------------|--------------------|-------------|\n",
    "| JYP             | 1                  | 858,333     |\n",
    "| StarShip        | 5                  | 2 554 299‬   |\n",
    "| Jellyfish       | 2                  | 699 114‬     |\n",
    "| Fantagio        | 3                  | 1 623 603‬   |\n",
    "| M&H             | 1                  | 403,633     |\n",
    "| RedLine         | 1                  | 229,732     |\n",
    "| Pledis          | 3                  | 1 219 783   |\n",
    "| MBK             | 3                  | 1 774 182‬   |\n",
    "| MMO ent         | 2                  | 2 480 935   |\n",
    "| Maroo           | 1                  | 1,136,014   |\n",
    "| Brand New Music | 3                  | 2 728 873‬   |\n",
    "| Independant     | 1                  | 1,051,735   |\n",
    "| Cube            | 1                  | 905,875     |\n",
    "| C9              | 1                  | 807,749     |\n",
    "| Ador & Able     | 1                  | 790,302     |\n",
    "| HKT48           | 2                  | 577 893     |\n",
    "| Stone Music     | 1                  | 294,734     |\n",
    "| YueHua          | 2                  | 1 214 696‬   |\n",
    "| Woollim         | 3                  | 1 245 343   |\n",
    "| 8D              | 1                  | 248,432     |\n",
    "| AKB48           | 1                  | 240,418     |\n",
    "| Urban Works     | 1                  | 227,061     |\n",
    "| OUI             | 1                  | 1,334,011   |\n",
    "| TOP Media       | 1                  | 1,304,033   |\n",
    "| Plan A          | 1                  | 1,079,200   |\n",
    "| WM              | 1                  | 221,273     |\n",
    "| DSP Media       | 1                  | 824,389     |"
   ]
  },
  {
   "cell_type": "raw",
   "metadata": {},
   "source": [
    "C'est Brand New Music qui avec 3 trainees a le plus de résultats, vient ensuite StarShip avec ses 5 trainees puis MMO avec 2 membres ayant eut enormement de votes."
   ]
  },
  {
   "cell_type": "raw",
   "metadata": {},
   "source": [
    "Peu d'agences ayant eut le plus de votes sont très connu ce qui montre que même les plus petites agences ont leur chances. Le public n'est pas prompt à juger un trainee à cause de son agence. Maintenant voyons les videos (youtube) ayant le plus de vues par saison."
   ]
  },
  {
   "cell_type": "markdown",
   "metadata": {},
   "source": [
    "### PD101 S1"
   ]
  },
  {
   "cell_type": "raw",
   "metadata": {},
   "source": [
    "https://www.youtube.com/watch?v=M3rg-rh6MPo -> PICK ME -> 37 millions de vues -> la chanson thème ayant fait grand bruit\n",
    "\n",
    "https://www.youtube.com/watch?v=4dL9RWFcJmI ->  [Produce 101] The Dance Avengers! - ♬BANG BANG @Position Evaluation(DANCE) -> 35 millions de vues -> team ayant plusieurs membres très populaire ayant fini dans le top 11"
   ]
  },
  {
   "cell_type": "markdown",
   "metadata": {},
   "source": [
    "### PD101 S2"
   ]
  },
  {
   "cell_type": "raw",
   "metadata": {},
   "source": [
    "https://www.youtube.com/watch?v=aqeMUdEMImI -> Jason Derulo ♬Get Ugly -> 27 millions de vues -> membres avec beaucoup de popularité ayant fini dans le lineup où à la finale.\n",
    "\n",
    "https://www.youtube.com/watch?v=NIld_iEc67s -> PICK ME(NAYANA) -> 26 millions de vues -> chanson thème"
   ]
  },
  {
   "cell_type": "markdown",
   "metadata": {},
   "source": [
    "### PD48 S3"
   ]
  },
  {
   "cell_type": "raw",
   "metadata": {},
   "source": [
    "https://www.youtube.com/watch?v=UOmolLOQ7Rs -> PICK ME (NEKKOYA) -> 34 millions de vues -> chanson thème\n",
    "\n",
    "https://www.youtube.com/watch?v=Y5B9pxWa3Is -> RUMOR -> 25 millions de vues -> 1 membre du lineup mais une musique qui a eu beaucoup de succès et qui a \"chart\"."
   ]
  },
  {
   "cell_type": "markdown",
   "metadata": {},
   "source": [
    "### PD X 101 S4"
   ]
  },
  {
   "cell_type": "raw",
   "metadata": {},
   "source": [
    "https://www.youtube.com/watch?v=F7lPWLr-rJI -> PICK ME (XIMA) -> 16 millions de vues -> chanson thème\n",
    "    \n",
    "https://www.youtube.com/watch?v=43b2wQ6Nll4 -> LOVE SHOT -> 13 millions de vues -> 3 membres du lineup (2 - 5 - 7)"
   ]
  },
  {
   "cell_type": "code",
   "execution_count": null,
   "metadata": {},
   "outputs": [],
   "source": []
  },
  {
   "cell_type": "markdown",
   "metadata": {},
   "source": [
    "## Les debuts song de chaques groupes"
   ]
  },
  {
   "cell_type": "markdown",
   "metadata": {},
   "source": [
    "### IOI (S1)"
   ]
  },
  {
   "cell_type": "raw",
   "metadata": {},
   "source": [
    "https://www.youtube.com/watch?v=8Zu_yO4pNEY -> DREAM GIRLS -> 2.2 millions de vues 2016"
   ]
  },
  {
   "cell_type": "markdown",
   "metadata": {},
   "source": [
    "### WANNA ONE (S2)"
   ]
  },
  {
   "cell_type": "raw",
   "metadata": {},
   "source": [
    "https://www.youtube.com/watch?v=EVaV7AwqBWg -> ENERGETIC -> 123 millions de vues 2017"
   ]
  },
  {
   "cell_type": "markdown",
   "metadata": {},
   "source": [
    "### IZ*ONE (S3)"
   ]
  },
  {
   "cell_type": "raw",
   "metadata": {},
   "source": [
    "https://www.youtube.com/watch?v=WZwr2a_lFWY -> LA VIE EN ROSE -> 114 millions de vues 2018"
   ]
  },
  {
   "cell_type": "markdown",
   "metadata": {},
   "source": [
    "### X1 (S4)"
   ]
  },
  {
   "cell_type": "raw",
   "metadata": {},
   "source": [
    "https://www.youtube.com/watch?v=LlQEKB2H7z4 -> FLASH -> 63 millions de vues 2019 (aout)"
   ]
  },
  {
   "cell_type": "raw",
   "metadata": {},
   "source": [
    "Le show reste un incontournable et très suivi de façon constante mais demande de s'interroger sur la lassitude du spectateur et ses choix de diffusion.Sur une question de revenu, les groupes qui naissent de cette émission sont très populaire mais sur les votes, le public plus jeune, très amateur, ne peut payer les votes lors de la finale. Les changements d'heure de diffusion sont perçus comme un problème par les tranches d'âge plus âgées. "
   ]
  },
  {
   "cell_type": "raw",
   "metadata": {},
   "source": [
    "Les 2 groupes encore en activité (izone et X1) représente 30% et 70% des revenus de l'agence qui s'occupe d'eux (SWING)"
   ]
  }
 ],
 "metadata": {
  "kernelspec": {
   "display_name": "Python 3",
   "language": "python",
   "name": "python3"
  },
  "language_info": {
   "codemirror_mode": {
    "name": "ipython",
    "version": 3
   },
   "file_extension": ".py",
   "mimetype": "text/x-python",
   "name": "python",
   "nbconvert_exporter": "python",
   "pygments_lexer": "ipython3",
   "version": "3.6.6"
  }
 },
 "nbformat": 4,
 "nbformat_minor": 2
}
